{
 "cells": [
  {
   "cell_type": "markdown",
   "id": "53833d73",
   "metadata": {},
   "source": [
    "# Metrical Analysis of Sanskrit Ninth Class Verb Forms"
   ]
  },
  {
   "cell_type": "markdown",
   "id": "b9a8a38d",
   "metadata": {},
   "source": [
    "Our main stages:\n",
    "\n",
    "1. Raw Corpus\n",
    "2. Roots\n",
    "3. Roots with stanza attestations\n",
    "4. Verse lines (and enrichment)\n",
    "5. Verse lines with metrical analysis\n",
    "6. Analysis\n",
    "\n",
    "with validation in each stage..."
   ]
  }
 ],
 "metadata": {
  "kernelspec": {
   "display_name": "Python 3 (ipykernel)",
   "language": "python",
   "name": "python3"
  },
  "language_info": {
   "codemirror_mode": {
    "name": "ipython",
    "version": 3
   },
   "file_extension": ".py",
   "mimetype": "text/x-python",
   "name": "python",
   "nbconvert_exporter": "python",
   "pygments_lexer": "ipython3",
   "version": "3.10.9"
  }
 },
 "nbformat": 4,
 "nbformat_minor": 5
}
