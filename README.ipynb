{
 "cells": [
  {
   "cell_type": "markdown",
   "id": "b5484efe",
   "metadata": {},
   "source": [
    "# Metrical Analysis of Sanskrit Ninth Class Verb Forms"
   ]
  },
  {
   "cell_type": "markdown",
   "id": "eed15db9",
   "metadata": {},
   "source": [
    "## Getting Verbal Roots "
   ]
  },
  {
   "cell_type": "code",
   "execution_count": null,
   "id": "922babf4",
   "metadata": {},
   "outputs": [],
   "source": [
    "!wget -O data/whitney_roots.pdf http://gretil.sub.uni-goettingen.de/gretil_elib/Whi885__Whitney_Roots-ACCENTED.pdf"
   ]
  },
  {
   "cell_type": "code",
   "execution_count": 4,
   "id": "b6ee83f3",
   "metadata": {},
   "outputs": [],
   "source": [
    "# install pdftk if not already there. eg: for ubuntu: sudo apt install pdftk\n",
    "!pdftk data/whitney_roots.pdf cat 229 output data/whitney_roots_ninth_class.pdf"
   ]
  },
  {
   "cell_type": "code",
   "execution_count": 5,
   "id": "e4cfa6e2",
   "metadata": {},
   "outputs": [],
   "source": [
    "# produces data/whitney_roots_ninth_class.txt\n",
    "!pdftotext data/whitney_roots_ninth_class.pdf"
   ]
  }
 ],
 "metadata": {
  "kernelspec": {
   "display_name": "Python 3 (ipykernel)",
   "language": "python",
   "name": "python3"
  },
  "language_info": {
   "codemirror_mode": {
    "name": "ipython",
    "version": 3
   },
   "file_extension": ".py",
   "mimetype": "text/x-python",
   "name": "python",
   "nbconvert_exporter": "python",
   "pygments_lexer": "ipython3",
   "version": "3.10.9"
  }
 },
 "nbformat": 4,
 "nbformat_minor": 5
}
