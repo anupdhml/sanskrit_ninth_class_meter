{
 "cells": [
  {
   "cell_type": "markdown",
   "id": "b5484efe",
   "metadata": {},
   "source": [
    "# Metrical Analysis of Sanskrit Ninth Class Verb Forms"
   ]
  },
  {
   "cell_type": "markdown",
   "id": "eed15db9",
   "metadata": {},
   "source": [
    "## Getting Verbal Roots "
   ]
  },
  {
   "cell_type": "code",
   "execution_count": null,
   "id": "922babf4",
   "metadata": {},
   "outputs": [],
   "source": [
    "!wget -O data/whitney_roots.pdf http://gretil.sub.uni-goettingen.de/gretil_elib/Whi885__Whitney_Roots-ACCENTED.pdf"
   ]
  },
  {
   "cell_type": "code",
   "execution_count": 4,
   "id": "b6ee83f3",
   "metadata": {},
   "outputs": [],
   "source": [
    "# install pdftk if not already there. eg: for ubuntu: sudo apt install pdftk\n",
    "!pdftk data/whitney_roots.pdf cat 229 output data/whitney_roots_ninth_class.pdf"
   ]
  },
  {
   "cell_type": "code",
   "execution_count": 5,
   "id": "e4cfa6e2",
   "metadata": {},
   "outputs": [],
   "source": [
    "# produces data/whitney_roots_ninth_class.txt\n",
    "!pdftotext data/whitney_roots_ninth_class.pdf"
   ]
  },
  {
   "cell_type": "markdown",
   "id": "a2a46f06",
   "metadata": {},
   "source": [
    "Cleanup the text version manually, fixing formatting and diacritics.\n",
    "\n",
    "Final results are in [data/whitney_roots_ninth_class_cleaned.txt](data/whitney_roots_ninth_class_cleaned.txt)"
   ]
  },
  {
   "cell_type": "code",
   "execution_count": 225,
   "id": "fa5c077b",
   "metadata": {},
   "outputs": [],
   "source": [
    "# TODO try to get the 9th class forms/roots directly from Lubotksy's concordance?"
   ]
  },
  {
   "cell_type": "markdown",
   "id": "64d50821",
   "metadata": {},
   "source": [
    "## Parsing Verbal Roots Info"
   ]
  },
  {
   "cell_type": "code",
   "execution_count": 206,
   "id": "4c836cc3",
   "metadata": {},
   "outputs": [],
   "source": [
    "CLASS_HEADER = \"6. nā-class\"\n",
    "EARLIER_LANGUAGE_HEADER = \"A. Earlier Language\"\n",
    "EARLIER_AND_LATER_LANGUAGE_HEADER = \"B. Earlier and Later Language\"\n",
    "LATER_LANGUAGE_HEADER = \"C. Later Language\"\n",
    "\n",
    "NINTH_CLASS_STRONG_MARKER = \"ā\"\n",
    "NINTH_CLASS_WEAK_MARKER = \"ī\"\n",
    "\n",
    "whitney_roots = []\n",
    "\n",
    "language_period = None\n",
    "\n",
    "with open(\"data/whitney_roots_ninth_class_cleaned.txt\", 'r') as whitney_file:\n",
    "    while line := whitney_file.readline():\n",
    "        variant_no = None\n",
    "        attestation_texts = None\n",
    "        weak_only = False\n",
    "        \n",
    "        line = line.rstrip()\n",
    "        if not line or CLASS_HEADER in line:\n",
    "            continue    \n",
    "        elif EARLIER_LANGUAGE_HEADER in line:\n",
    "            language_period = \"Earlier\"\n",
    "            continue\n",
    "        elif EARLIER_AND_LATER_LANGUAGE_HEADER in line:\n",
    "            language_period = \"Earlier & Later\"\n",
    "            continue\n",
    "        elif LATER_LANGUAGE_HEADER in line:\n",
    "            language_period = \"Later\"\n",
    "            continue\n",
    "                \n",
    "        line_parts = line.split()\n",
    "        if line_parts[0].isdigit():\n",
    "            variant_no = line_parts.pop(0)\n",
    "        stem = line_parts.pop(0)\n",
    "        if line_parts:\n",
    "            attestation_texts = \" \".join(line_parts)\n",
    "        \n",
    "        if stem.endswith(NINTH_CLASS_WEAK_MARKER):\n",
    "            weak_only = True\n",
    "        \n",
    "        whitney_roots.append({\n",
    "            \"root\": stem[:-2], # removes the last two chars\n",
    "            \"variant_no\": variant_no,\n",
    "            \"stem\": stem,\n",
    "            \"weak_only\": weak_only,\n",
    "            \"attestation_texts\": attestation_texts,\n",
    "            \"language_period\": language_period,\n",
    "        })"
   ]
  },
  {
   "cell_type": "code",
   "execution_count": 17,
   "id": "0093fa3c",
   "metadata": {},
   "outputs": [],
   "source": [
    "import pandas"
   ]
  },
  {
   "cell_type": "code",
   "execution_count": 207,
   "id": "eb1cc4a8",
   "metadata": {},
   "outputs": [
    {
     "data": {
      "text/html": [
       "<div>\n",
       "<style scoped>\n",
       "    .dataframe tbody tr th:only-of-type {\n",
       "        vertical-align: middle;\n",
       "    }\n",
       "\n",
       "    .dataframe tbody tr th {\n",
       "        vertical-align: top;\n",
       "    }\n",
       "\n",
       "    .dataframe thead th {\n",
       "        text-align: right;\n",
       "    }\n",
       "</style>\n",
       "<table border=\"1\" class=\"dataframe\">\n",
       "  <thead>\n",
       "    <tr style=\"text-align: right;\">\n",
       "      <th></th>\n",
       "      <th>root</th>\n",
       "      <th>variant_no</th>\n",
       "      <th>stem</th>\n",
       "      <th>weak_only</th>\n",
       "      <th>attestation_texts</th>\n",
       "      <th>language_period</th>\n",
       "    </tr>\n",
       "  </thead>\n",
       "  <tbody>\n",
       "    <tr>\n",
       "      <th>0</th>\n",
       "      <td>i</td>\n",
       "      <td>None</td>\n",
       "      <td>inī</td>\n",
       "      <td>True</td>\n",
       "      <td>V.</td>\n",
       "      <td>Earlier</td>\n",
       "    </tr>\n",
       "    <tr>\n",
       "      <th>1</th>\n",
       "      <td>iṣ</td>\n",
       "      <td>None</td>\n",
       "      <td>iṣṇā</td>\n",
       "      <td>False</td>\n",
       "      <td>None</td>\n",
       "      <td>Earlier</td>\n",
       "    </tr>\n",
       "    <tr>\n",
       "      <th>2</th>\n",
       "      <td>ubh</td>\n",
       "      <td>None</td>\n",
       "      <td>ubhnā</td>\n",
       "      <td>False</td>\n",
       "      <td>V.</td>\n",
       "      <td>Earlier</td>\n",
       "    </tr>\n",
       "    <tr>\n",
       "      <th>3</th>\n",
       "      <td>uṣ</td>\n",
       "      <td>None</td>\n",
       "      <td>uṣṇā</td>\n",
       "      <td>False</td>\n",
       "      <td>V.</td>\n",
       "      <td>Earlier</td>\n",
       "    </tr>\n",
       "    <tr>\n",
       "      <th>4</th>\n",
       "      <td>kṣi</td>\n",
       "      <td>None</td>\n",
       "      <td>kṣiṇā</td>\n",
       "      <td>False</td>\n",
       "      <td>V.B.</td>\n",
       "      <td>Earlier</td>\n",
       "    </tr>\n",
       "  </tbody>\n",
       "</table>\n",
       "</div>"
      ],
      "text/plain": [
       "  root variant_no   stem  weak_only attestation_texts language_period\n",
       "0    i       None    inī       True                V.         Earlier\n",
       "1   iṣ       None   iṣṇā      False              None         Earlier\n",
       "2  ubh       None  ubhnā      False                V.         Earlier\n",
       "3   uṣ       None   uṣṇā      False                V.         Earlier\n",
       "4  kṣi       None  kṣiṇā      False              V.B.         Earlier"
      ]
     },
     "execution_count": 207,
     "metadata": {},
     "output_type": "execute_result"
    }
   ],
   "source": [
    "df_whitney_roots = pandas.DataFrame.from_dict(whitney_roots)\n",
    "df_whitney_roots.to_csv(\"data/whitney_roots_ninth_class.csv\", index=None)\n",
    "df_whitney_roots.head()"
   ]
  },
  {
   "cell_type": "markdown",
   "id": "3b2d5a10",
   "metadata": {},
   "source": [
    "## Annotating Verbal Roots with Rig Veda Attestations (Manual)"
   ]
  },
  {
   "cell_type": "markdown",
   "id": "4b674f1f",
   "metadata": {},
   "source": [
    "Using Lubotsky's concordance, attestation info is manually added to [data/whitney_roots_ninth_class.csv](data/whitney_roots_ninth_class.csv).\n",
    "\n",
    "Final results are in [data/roots_ninth_class.csv](data/roots_ninth_class.csv)."
   ]
  },
  {
   "cell_type": "code",
   "execution_count": 210,
   "id": "3a05e39e",
   "metadata": {},
   "outputs": [],
   "source": [
    "#df_roots = pandas.read_csv(\"data/roots_ninth_class.csv\")\n",
    "df_roots = pandas.read_csv(\"data/roots_ninth_class.csv\", keep_default_na=False)"
   ]
  },
  {
   "cell_type": "code",
   "execution_count": 211,
   "id": "35302f06",
   "metadata": {},
   "outputs": [
    {
     "data": {
      "text/html": [
       "<div>\n",
       "<style scoped>\n",
       "    .dataframe tbody tr th:only-of-type {\n",
       "        vertical-align: middle;\n",
       "    }\n",
       "\n",
       "    .dataframe tbody tr th {\n",
       "        vertical-align: top;\n",
       "    }\n",
       "\n",
       "    .dataframe thead th {\n",
       "        text-align: right;\n",
       "    }\n",
       "</style>\n",
       "<table border=\"1\" class=\"dataframe\">\n",
       "  <thead>\n",
       "    <tr style=\"text-align: right;\">\n",
       "      <th></th>\n",
       "      <th>root</th>\n",
       "      <th>variant_no</th>\n",
       "      <th>stem</th>\n",
       "      <th>weak_only</th>\n",
       "      <th>attestation_texts</th>\n",
       "      <th>language_period</th>\n",
       "      <th>rig_veda_weak_attestations</th>\n",
       "      <th>rig_veda_strong_attestations</th>\n",
       "      <th>lubotsky_page_no</th>\n",
       "      <th>notes</th>\n",
       "    </tr>\n",
       "  </thead>\n",
       "  <tbody>\n",
       "    <tr>\n",
       "      <th>1</th>\n",
       "      <td>iṣ</td>\n",
       "      <td></td>\n",
       "      <td>iṣṇā</td>\n",
       "      <td>False</td>\n",
       "      <td></td>\n",
       "      <td>Earlier</td>\n",
       "      <td></td>\n",
       "      <td>1.63.2d</td>\n",
       "      <td>1:</td>\n",
       "      <td>iSnAsi</td>\n",
       "    </tr>\n",
       "    <tr>\n",
       "      <th>18</th>\n",
       "      <td>vr̥</td>\n",
       "      <td>1</td>\n",
       "      <td>vr̥ṇī</td>\n",
       "      <td>True</td>\n",
       "      <td>V.</td>\n",
       "      <td>Earlier</td>\n",
       "      <td>1.180.4b 1.67.1b 4.25.3a</td>\n",
       "      <td></td>\n",
       "      <td>2:1338-1339</td>\n",
       "      <td>avRNItam vRnIte vRnIte(accented - last syll)</td>\n",
       "    </tr>\n",
       "    <tr>\n",
       "      <th>37</th>\n",
       "      <td>pu</td>\n",
       "      <td></td>\n",
       "      <td>punā</td>\n",
       "      <td>False</td>\n",
       "      <td></td>\n",
       "      <td>Earlier &amp; Later</td>\n",
       "      <td>9.16.3c 9.67.27d</td>\n",
       "      <td>1.133.1a 10.13.3d</td>\n",
       "      <td>1:900-</td>\n",
       "      <td>punIhi puNAmi</td>\n",
       "    </tr>\n",
       "  </tbody>\n",
       "</table>\n",
       "</div>"
      ],
      "text/plain": [
       "   root variant_no   stem  weak_only attestation_texts  language_period  \\\n",
       "1    iṣ              iṣṇā      False                            Earlier   \n",
       "18  vr̥          1  vr̥ṇī       True                V.          Earlier   \n",
       "37   pu              punā      False                    Earlier & Later   \n",
       "\n",
       "   rig_veda_weak_attestations rig_veda_strong_attestations lubotsky_page_no  \\\n",
       "1                                                  1.63.2d               1:   \n",
       "18   1.180.4b 1.67.1b 4.25.3a                                   2:1338-1339   \n",
       "37           9.16.3c 9.67.27d            1.133.1a 10.13.3d           1:900-   \n",
       "\n",
       "                                           notes  \n",
       "1                                         iSnAsi  \n",
       "18  avRNItam vRnIte vRnIte(accented - last syll)  \n",
       "37                                 punIhi puNAmi  "
      ]
     },
     "execution_count": 211,
     "metadata": {},
     "output_type": "execute_result"
    }
   ],
   "source": [
    "# TODO remove test df once we have all the annotations\n",
    "#df_roots_test = df_roots[~df_roots[\"notes\"].isna()]\n",
    "df_roots_test = df_roots[df_roots[\"notes\"].str.len() > 0]\n",
    "df_roots_test.head()"
   ]
  },
  {
   "cell_type": "markdown",
   "id": "8488bf39",
   "metadata": {},
   "source": [
    "## Annotating Verbal Roots with Rig Veda Attestations"
   ]
  },
  {
   "cell_type": "markdown",
   "id": "dc18c62a",
   "metadata": {},
   "source": [
    "### Getting Rig Veda padapatha text (Eichler)"
   ]
  },
  {
   "cell_type": "code",
   "execution_count": null,
   "id": "68f2f8f3",
   "metadata": {},
   "outputs": [],
   "source": [
    "# http://www.detlef108.de/Rigveda.htm \n",
    "# http://www.detlef108.de/Notes-to-the-Rigveda-Page.htm \n",
    "!wget -O data/rv_padapatha_eichler.html http://www.detlef108.de/RV-Padapatha-TA3-paada-NA-UTF8.html "
   ]
  },
  {
   "cell_type": "code",
   "execution_count": 224,
   "id": "3d5d638f",
   "metadata": {},
   "outputs": [],
   "source": [
    "# sudo apt install html2text\n",
    "#!html2text -utf8 -width 3000 -o rv_padapatha.txt rv_padaptaha.html\n",
    "\n",
    "from bs4 import BeautifulSoup\n",
    "\n",
    "with open(\"data/rv_padapatha_eichler.html\", \"r\") as input_file:\n",
    "    soup = BeautifulSoup(input_file)\n",
    "    \n",
    "    hymns = []\n",
    "    \n",
    "    for para in soup.find_all(\"p\"):\n",
    "        # ignore the ending notes\n",
    "        if para.contents[0].name == \"span\":\n",
    "            continue\n",
    "        \n",
    "        #hymns.append(para.text.rstrip()) # no extra lines between hymns\n",
    "        hymns.append(para.text)\n",
    "    \n",
    "    with open(\"data/rv_padapatha_eichler.txt\", 'w') as f:\n",
    "        f.write(\"\".join(hymns))"
   ]
  },
  {
   "cell_type": "code",
   "execution_count": 222,
   "id": "3fe51439",
   "metadata": {},
   "outputs": [],
   "source": [
    "# TODO break the padapatha verse into sub-lines"
   ]
  },
  {
   "cell_type": "markdown",
   "id": "0477bf80",
   "metadata": {},
   "source": [
    "### Getting Rig Veda padapatha / metrically restored texts"
   ]
  },
  {
   "cell_type": "code",
   "execution_count": null,
   "id": "3824eea0",
   "metadata": {},
   "outputs": [],
   "source": [
    "# https://github.com/cceh/c-salt_vedaweb_sources/tree/master/rigveda/versions\n",
    "# description of the sources here:\n",
    "# https://github.com/cceh/c-salt_vedaweb_tei/blob/master/vedaweb_corpus.tei\n",
    "# https://vedaweb.uni-koeln.de/rigveda/help\n",
    "\n",
    "!wget -O data/rv_padapatha_lubotsky.json https://raw.githubusercontent.com/cceh/c-salt_vedaweb_sources/master/rigveda/versions/lubotsky.json\n",
    "\n",
    "!wget -O data/rv_samhitapatha_vnh.json https://raw.githubusercontent.com/cceh/c-salt_vedaweb_sources/master/rigveda/versions/vnh.json"
   ]
  },
  {
   "cell_type": "code",
   "execution_count": 217,
   "id": "d590814b",
   "metadata": {},
   "outputs": [],
   "source": [
    "# TODO make text version from the jsons, with line numbers at the beginning"
   ]
  },
  {
   "cell_type": "markdown",
   "id": "0b00e823",
   "metadata": {},
   "source": [
    "### Searching text for ninth-class verbal forms"
   ]
  },
  {
   "cell_type": "code",
   "execution_count": 196,
   "id": "093bc910",
   "metadata": {},
   "outputs": [],
   "source": [
    "# TODO"
   ]
  },
  {
   "cell_type": "markdown",
   "id": "e9c19962",
   "metadata": {},
   "source": [
    "## Organizing Data by Verse Lines (pādas)"
   ]
  },
  {
   "cell_type": "code",
   "execution_count": 135,
   "id": "05fb2391",
   "metadata": {},
   "outputs": [],
   "source": [
    "#from pprint import pprint"
   ]
  },
  {
   "cell_type": "code",
   "execution_count": 251,
   "id": "d5579f78",
   "metadata": {},
   "outputs": [
    {
     "name": "stdout",
     "output_type": "stream",
     "text": [
      "{'attestation_texts': '',\n",
      " 'language_period': 'Earlier',\n",
      " 'line_no': '1.63.2d',\n",
      " 'lubotsky_page_no': '1:',\n",
      " 'notes': 'iSnAsi',\n",
      " 'root': 'iṣ',\n",
      " 'stem': 'iṣṇā',\n",
      " 'stem_type': 'strong',\n",
      " 'variant_no': '',\n",
      " 'weak_only': False}\n"
     ]
    }
   ],
   "source": [
    "rv_lines = []\n",
    "\n",
    "roots = df_roots_test.to_dict(\"records\")\n",
    "\n",
    "for root in roots:\n",
    "    rv_weak_line_nos = root.pop(\"rig_veda_weak_attestations\").split()\n",
    "    rv_strong_line_nos = root.pop(\"rig_veda_strong_attestations\").split()\n",
    "    \n",
    "    for line_no in rv_weak_line_nos:\n",
    "        line = {\"line_no\": line_no, \"stem_type\": \"weak\"} | root\n",
    "        # update stem vowel (since stem won't have weak marker in whitney when strong \n",
    "        # stem is attested)\n",
    "        line[\"stem\"] = line[\"stem\"][:-1] + NINTH_CLASS_WEAK_MARKER\n",
    "        rv_lines.append(line)\n",
    "        \n",
    "    for line_no in rv_strong_line_nos:\n",
    "        rv_lines.append({\"line_no\": line_no, \"stem_type\": \"strong\"} | root)\n",
    "\n",
    "pprint(rv_lines[0])"
   ]
  },
  {
   "cell_type": "markdown",
   "id": "0e448d04",
   "metadata": {},
   "source": [
    "### Parsing line numbers"
   ]
  },
  {
   "cell_type": "code",
   "execution_count": 253,
   "id": "1523f827",
   "metadata": {},
   "outputs": [
    {
     "name": "stdout",
     "output_type": "stream",
     "text": [
      "{'line_no': '1.63.2d', 'stem_type': 'strong', 'root': 'iṣ', 'variant_no': '', 'stem': 'iṣṇā', 'weak_only': False, 'attestation_texts': '', 'language_period': 'Earlier', 'lubotsky_page_no': '1:', 'notes': 'iSnAsi', 'book': '01', 'hymn': '063', 'stanza': '02', 'pada': 'd'}\n"
     ]
    }
   ],
   "source": [
    "# \"1.1.1b\" > \"01\" \"001\" \"02\" \"b\"\n",
    "def parse_rv_line_no(string):\n",
    "    line_no_parts = string.split(\".\")\n",
    "    \n",
    "    book = line_no_parts[0]\n",
    "    hymn = line_no_parts[1]\n",
    "    \n",
    "    last_char = line_no_parts[2][-1]\n",
    "    if last_char.isalpha():\n",
    "        stanza = line_no_parts[2][:-1] # drop the last char\n",
    "        pada = last_char\n",
    "    else:\n",
    "        stanza = line_no_parts[2]\n",
    "        pada = \"\"\n",
    "\n",
    "    return {\n",
    "        \"book\": book.zfill(2),\n",
    "        \"hymn\": hymn.zfill(3),\n",
    "        \"stanza\": stanza.zfill(2),\n",
    "        \"pada\": pada\n",
    "    }    \n",
    "\n",
    "rv_lines = [line | (parse_rv_line_no(line[\"line_no\"])) for line in rv_lines]\n",
    "\n",
    "print(rv_lines[0])"
   ]
  },
  {
   "cell_type": "markdown",
   "id": "5fff0341",
   "metadata": {},
   "source": [
    "## Annotating Verse Lines"
   ]
  },
  {
   "cell_type": "code",
   "execution_count": 254,
   "id": "9499e02b",
   "metadata": {},
   "outputs": [
    {
     "name": "stdout",
     "output_type": "stream",
     "text": [
      "{'attestation_texts': '',\n",
      " 'book': '01',\n",
      " 'hymn': '063',\n",
      " 'language_period': 'Earlier',\n",
      " 'line_no': '1.63.2d',\n",
      " 'lubotsky_page_no': '1:',\n",
      " 'meter_name': 'PLACEHOLDER',\n",
      " 'meter_scansion': 'PLACEHOLDER',\n",
      " 'notes': 'iSnAsi',\n",
      " 'pada': 'd',\n",
      " 'root': 'iṣ',\n",
      " 'stanza': '02',\n",
      " 'stem': 'iṣṇā',\n",
      " 'stem_type': 'strong',\n",
      " 'text': 'PLACEHOLDER',\n",
      " 'variant_no': '',\n",
      " 'weak_only': False}\n"
     ]
    }
   ],
   "source": [
    "# TODO\n",
    "def annotate_line(line):\n",
    "    #https://vedaweb.uni-koeln.de/rigveda/api/document/id/0100102\n",
    "    \n",
    "    line[\"text\"] = \"PLACEHOLDER\"\n",
    "    \n",
    "    line[\"meter_scansion\"] = \"PLACEHOLDER\"\n",
    "    \n",
    "    line[\"meter_name\"] = \"PLACEHOLDER\"\n",
    "    \n",
    "    return line\n",
    "\n",
    "rv_lines_annotated = [annotate_line(line) for line in rv_lines]\n",
    "pprint(rv_lines_annotated[0])"
   ]
  },
  {
   "cell_type": "markdown",
   "id": "3cde2b4b",
   "metadata": {},
   "source": [
    "## Saving the Final Line Results"
   ]
  },
  {
   "cell_type": "code",
   "execution_count": 255,
   "id": "20745095",
   "metadata": {},
   "outputs": [
    {
     "data": {
      "text/html": [
       "<div>\n",
       "<style scoped>\n",
       "    .dataframe tbody tr th:only-of-type {\n",
       "        vertical-align: middle;\n",
       "    }\n",
       "\n",
       "    .dataframe tbody tr th {\n",
       "        vertical-align: top;\n",
       "    }\n",
       "\n",
       "    .dataframe thead th {\n",
       "        text-align: right;\n",
       "    }\n",
       "</style>\n",
       "<table border=\"1\" class=\"dataframe\">\n",
       "  <thead>\n",
       "    <tr style=\"text-align: right;\">\n",
       "      <th></th>\n",
       "      <th>line_no</th>\n",
       "      <th>stem_type</th>\n",
       "      <th>root</th>\n",
       "      <th>variant_no</th>\n",
       "      <th>stem</th>\n",
       "      <th>weak_only</th>\n",
       "      <th>attestation_texts</th>\n",
       "      <th>language_period</th>\n",
       "      <th>lubotsky_page_no</th>\n",
       "      <th>notes</th>\n",
       "      <th>book</th>\n",
       "      <th>hymn</th>\n",
       "      <th>stanza</th>\n",
       "      <th>pada</th>\n",
       "      <th>text</th>\n",
       "      <th>meter_scansion</th>\n",
       "      <th>meter_name</th>\n",
       "    </tr>\n",
       "  </thead>\n",
       "  <tbody>\n",
       "    <tr>\n",
       "      <th>0</th>\n",
       "      <td>1.63.2d</td>\n",
       "      <td>strong</td>\n",
       "      <td>iṣ</td>\n",
       "      <td></td>\n",
       "      <td>iṣṇā</td>\n",
       "      <td>False</td>\n",
       "      <td></td>\n",
       "      <td>Earlier</td>\n",
       "      <td>1:</td>\n",
       "      <td>iSnAsi</td>\n",
       "      <td>01</td>\n",
       "      <td>063</td>\n",
       "      <td>02</td>\n",
       "      <td>d</td>\n",
       "      <td>PLACEHOLDER</td>\n",
       "      <td>PLACEHOLDER</td>\n",
       "      <td>PLACEHOLDER</td>\n",
       "    </tr>\n",
       "    <tr>\n",
       "      <th>1</th>\n",
       "      <td>1.180.4b</td>\n",
       "      <td>weak</td>\n",
       "      <td>vr̥</td>\n",
       "      <td>1</td>\n",
       "      <td>vr̥ṇī</td>\n",
       "      <td>True</td>\n",
       "      <td>V.</td>\n",
       "      <td>Earlier</td>\n",
       "      <td>2:1338-1339</td>\n",
       "      <td>avRNItam vRnIte vRnIte(accented - last syll)</td>\n",
       "      <td>01</td>\n",
       "      <td>180</td>\n",
       "      <td>04</td>\n",
       "      <td>b</td>\n",
       "      <td>PLACEHOLDER</td>\n",
       "      <td>PLACEHOLDER</td>\n",
       "      <td>PLACEHOLDER</td>\n",
       "    </tr>\n",
       "    <tr>\n",
       "      <th>2</th>\n",
       "      <td>1.67.1b</td>\n",
       "      <td>weak</td>\n",
       "      <td>vr̥</td>\n",
       "      <td>1</td>\n",
       "      <td>vr̥ṇī</td>\n",
       "      <td>True</td>\n",
       "      <td>V.</td>\n",
       "      <td>Earlier</td>\n",
       "      <td>2:1338-1339</td>\n",
       "      <td>avRNItam vRnIte vRnIte(accented - last syll)</td>\n",
       "      <td>01</td>\n",
       "      <td>067</td>\n",
       "      <td>01</td>\n",
       "      <td>b</td>\n",
       "      <td>PLACEHOLDER</td>\n",
       "      <td>PLACEHOLDER</td>\n",
       "      <td>PLACEHOLDER</td>\n",
       "    </tr>\n",
       "    <tr>\n",
       "      <th>3</th>\n",
       "      <td>4.25.3a</td>\n",
       "      <td>weak</td>\n",
       "      <td>vr̥</td>\n",
       "      <td>1</td>\n",
       "      <td>vr̥ṇī</td>\n",
       "      <td>True</td>\n",
       "      <td>V.</td>\n",
       "      <td>Earlier</td>\n",
       "      <td>2:1338-1339</td>\n",
       "      <td>avRNItam vRnIte vRnIte(accented - last syll)</td>\n",
       "      <td>04</td>\n",
       "      <td>025</td>\n",
       "      <td>03</td>\n",
       "      <td>a</td>\n",
       "      <td>PLACEHOLDER</td>\n",
       "      <td>PLACEHOLDER</td>\n",
       "      <td>PLACEHOLDER</td>\n",
       "    </tr>\n",
       "    <tr>\n",
       "      <th>4</th>\n",
       "      <td>9.16.3c</td>\n",
       "      <td>weak</td>\n",
       "      <td>pu</td>\n",
       "      <td></td>\n",
       "      <td>punī</td>\n",
       "      <td>False</td>\n",
       "      <td></td>\n",
       "      <td>Earlier &amp; Later</td>\n",
       "      <td>1:900-</td>\n",
       "      <td>punIhi puNAmi</td>\n",
       "      <td>09</td>\n",
       "      <td>016</td>\n",
       "      <td>03</td>\n",
       "      <td>c</td>\n",
       "      <td>PLACEHOLDER</td>\n",
       "      <td>PLACEHOLDER</td>\n",
       "      <td>PLACEHOLDER</td>\n",
       "    </tr>\n",
       "    <tr>\n",
       "      <th>5</th>\n",
       "      <td>9.67.27d</td>\n",
       "      <td>weak</td>\n",
       "      <td>pu</td>\n",
       "      <td></td>\n",
       "      <td>punī</td>\n",
       "      <td>False</td>\n",
       "      <td></td>\n",
       "      <td>Earlier &amp; Later</td>\n",
       "      <td>1:900-</td>\n",
       "      <td>punIhi puNAmi</td>\n",
       "      <td>09</td>\n",
       "      <td>067</td>\n",
       "      <td>27</td>\n",
       "      <td>d</td>\n",
       "      <td>PLACEHOLDER</td>\n",
       "      <td>PLACEHOLDER</td>\n",
       "      <td>PLACEHOLDER</td>\n",
       "    </tr>\n",
       "    <tr>\n",
       "      <th>6</th>\n",
       "      <td>1.133.1a</td>\n",
       "      <td>strong</td>\n",
       "      <td>pu</td>\n",
       "      <td></td>\n",
       "      <td>punā</td>\n",
       "      <td>False</td>\n",
       "      <td></td>\n",
       "      <td>Earlier &amp; Later</td>\n",
       "      <td>1:900-</td>\n",
       "      <td>punIhi puNAmi</td>\n",
       "      <td>01</td>\n",
       "      <td>133</td>\n",
       "      <td>01</td>\n",
       "      <td>a</td>\n",
       "      <td>PLACEHOLDER</td>\n",
       "      <td>PLACEHOLDER</td>\n",
       "      <td>PLACEHOLDER</td>\n",
       "    </tr>\n",
       "    <tr>\n",
       "      <th>7</th>\n",
       "      <td>10.13.3d</td>\n",
       "      <td>strong</td>\n",
       "      <td>pu</td>\n",
       "      <td></td>\n",
       "      <td>punā</td>\n",
       "      <td>False</td>\n",
       "      <td></td>\n",
       "      <td>Earlier &amp; Later</td>\n",
       "      <td>1:900-</td>\n",
       "      <td>punIhi puNAmi</td>\n",
       "      <td>10</td>\n",
       "      <td>013</td>\n",
       "      <td>03</td>\n",
       "      <td>d</td>\n",
       "      <td>PLACEHOLDER</td>\n",
       "      <td>PLACEHOLDER</td>\n",
       "      <td>PLACEHOLDER</td>\n",
       "    </tr>\n",
       "  </tbody>\n",
       "</table>\n",
       "</div>"
      ],
      "text/plain": [
       "    line_no stem_type root variant_no   stem  weak_only attestation_texts  \\\n",
       "0   1.63.2d    strong   iṣ              iṣṇā      False                     \n",
       "1  1.180.4b      weak  vr̥          1  vr̥ṇī       True                V.   \n",
       "2   1.67.1b      weak  vr̥          1  vr̥ṇī       True                V.   \n",
       "3   4.25.3a      weak  vr̥          1  vr̥ṇī       True                V.   \n",
       "4   9.16.3c      weak   pu              punī      False                     \n",
       "5  9.67.27d      weak   pu              punī      False                     \n",
       "6  1.133.1a    strong   pu              punā      False                     \n",
       "7  10.13.3d    strong   pu              punā      False                     \n",
       "\n",
       "   language_period lubotsky_page_no  \\\n",
       "0          Earlier               1:   \n",
       "1          Earlier      2:1338-1339   \n",
       "2          Earlier      2:1338-1339   \n",
       "3          Earlier      2:1338-1339   \n",
       "4  Earlier & Later           1:900-   \n",
       "5  Earlier & Later           1:900-   \n",
       "6  Earlier & Later           1:900-   \n",
       "7  Earlier & Later           1:900-   \n",
       "\n",
       "                                          notes book hymn stanza pada  \\\n",
       "0                                        iSnAsi   01  063     02    d   \n",
       "1  avRNItam vRnIte vRnIte(accented - last syll)   01  180     04    b   \n",
       "2  avRNItam vRnIte vRnIte(accented - last syll)   01  067     01    b   \n",
       "3  avRNItam vRnIte vRnIte(accented - last syll)   04  025     03    a   \n",
       "4                                 punIhi puNAmi   09  016     03    c   \n",
       "5                                 punIhi puNAmi   09  067     27    d   \n",
       "6                                 punIhi puNAmi   01  133     01    a   \n",
       "7                                 punIhi puNAmi   10  013     03    d   \n",
       "\n",
       "          text meter_scansion   meter_name  \n",
       "0  PLACEHOLDER    PLACEHOLDER  PLACEHOLDER  \n",
       "1  PLACEHOLDER    PLACEHOLDER  PLACEHOLDER  \n",
       "2  PLACEHOLDER    PLACEHOLDER  PLACEHOLDER  \n",
       "3  PLACEHOLDER    PLACEHOLDER  PLACEHOLDER  \n",
       "4  PLACEHOLDER    PLACEHOLDER  PLACEHOLDER  \n",
       "5  PLACEHOLDER    PLACEHOLDER  PLACEHOLDER  \n",
       "6  PLACEHOLDER    PLACEHOLDER  PLACEHOLDER  \n",
       "7  PLACEHOLDER    PLACEHOLDER  PLACEHOLDER  "
      ]
     },
     "execution_count": 255,
     "metadata": {},
     "output_type": "execute_result"
    }
   ],
   "source": [
    "df_rv_lines = pandas.DataFrame.from_dict(rv_lines_annotated)\n",
    "df_rv_lines.to_csv(\"data/rv_lines_ninth_class.csv\", index=None)\n",
    "df_rv_lines.head(100)"
   ]
  }
 ],
 "metadata": {
  "kernelspec": {
   "display_name": "Python 3 (ipykernel)",
   "language": "python",
   "name": "python3"
  },
  "language_info": {
   "codemirror_mode": {
    "name": "ipython",
    "version": 3
   },
   "file_extension": ".py",
   "mimetype": "text/x-python",
   "name": "python",
   "nbconvert_exporter": "python",
   "pygments_lexer": "ipython3",
   "version": "3.10.9"
  }
 },
 "nbformat": 4,
 "nbformat_minor": 5
}
