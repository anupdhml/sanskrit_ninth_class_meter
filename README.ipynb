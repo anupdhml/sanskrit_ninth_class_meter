{
 "cells": [
  {
   "cell_type": "markdown",
   "id": "b5484efe",
   "metadata": {},
   "source": [
    "# Metrical Analysis of Sanskrit Ninth Class Verb Forms"
   ]
  },
  {
   "cell_type": "markdown",
   "id": "eed15db9",
   "metadata": {},
   "source": [
    "## Getting Verbal Roots "
   ]
  },
  {
   "cell_type": "code",
   "execution_count": null,
   "id": "922babf4",
   "metadata": {},
   "outputs": [],
   "source": [
    "!wget -O data/whitney_roots.pdf http://gretil.sub.uni-goettingen.de/gretil_elib/Whi885__Whitney_Roots-ACCENTED.pdf"
   ]
  },
  {
   "cell_type": "code",
   "execution_count": 4,
   "id": "b6ee83f3",
   "metadata": {},
   "outputs": [],
   "source": [
    "# install pdftk if not already there. eg: for ubuntu: sudo apt install pdftk\n",
    "!pdftk data/whitney_roots.pdf cat 229 output data/whitney_roots_ninth_class.pdf"
   ]
  },
  {
   "cell_type": "code",
   "execution_count": 5,
   "id": "e4cfa6e2",
   "metadata": {},
   "outputs": [],
   "source": [
    "# produces data/whitney_roots_ninth_class.txt\n",
    "!pdftotext data/whitney_roots_ninth_class.pdf"
   ]
  },
  {
   "cell_type": "markdown",
   "id": "a2a46f06",
   "metadata": {},
   "source": [
    "Cleanup the text version manually, fixing formatting and diacritics.\n",
    "\n",
    "Final results are in [data/whitney_roots_ninth_class_cleaned.txt](data/whitney_roots_ninth_class_cleaned.txt)"
   ]
  },
  {
   "cell_type": "markdown",
   "id": "62d907f7",
   "metadata": {},
   "source": [
    "## Parsing Verbal Roots Info"
   ]
  },
  {
   "cell_type": "code",
   "execution_count": 20,
   "id": "86a954af",
   "metadata": {},
   "outputs": [],
   "source": [
    "CLASS_HEADER = \"6. nā-class\"\n",
    "EARLIER_LANGUAGE_HEADER = \"A. Earlier Language\"\n",
    "EARLIER_AND_LATER_LANGUAGE_HEADER = \"B. Earlier and Later Language\"\n",
    "LATER_LANGUAGE_HEADER = \"C. Later Language\"\n",
    "\n",
    "whitney_roots = []\n",
    "\n",
    "language_period = None\n",
    "\n",
    "with open(\"data/whitney_roots_ninth_class_cleaned.txt\", 'r') as whitney_file:\n",
    "    while line := whitney_file.readline():\n",
    "        meaning_number = None\n",
    "        attestation_texts = None\n",
    "        \n",
    "        line = line.rstrip()\n",
    "        if not line or CLASS_HEADER in line:\n",
    "            continue    \n",
    "        elif EARLIER_LANGUAGE_HEADER in line:\n",
    "            language_period = EARLIER_LANGUAGE_HEADER\n",
    "            continue\n",
    "        elif EARLIER_AND_LATER_LANGUAGE_HEADER in line:\n",
    "            language_period = EARLIER_AND_LATER_LANGUAGE_HEADER\n",
    "            continue\n",
    "        elif LATER_LANGUAGE_HEADER in line:\n",
    "            language_period = LATER_LANGUAGE_HEADER\n",
    "            continue\n",
    "                \n",
    "        line_parts = line.split()\n",
    "        if line_parts[0].isdigit():\n",
    "            meaning_number = line_parts.pop(0)\n",
    "        stem = line_parts.pop(0)\n",
    "        if line_parts:\n",
    "            attestation_texts = \" \".join(line_parts)\n",
    "        \n",
    "        whitney_roots.append({\n",
    "            \"stem\": stem,\n",
    "            \"meaning_number\": meaning_number,\n",
    "            \"attestation_texts\": attestation_texts,\n",
    "            \"language_period\": language_period,\n",
    "        })"
   ]
  },
  {
   "cell_type": "code",
   "execution_count": 17,
   "id": "da771464",
   "metadata": {},
   "outputs": [],
   "source": [
    "import pandas"
   ]
  },
  {
   "cell_type": "code",
   "execution_count": 26,
   "id": "f1d92b0e",
   "metadata": {},
   "outputs": [
    {
     "data": {
      "text/html": [
       "<div>\n",
       "<style scoped>\n",
       "    .dataframe tbody tr th:only-of-type {\n",
       "        vertical-align: middle;\n",
       "    }\n",
       "\n",
       "    .dataframe tbody tr th {\n",
       "        vertical-align: top;\n",
       "    }\n",
       "\n",
       "    .dataframe thead th {\n",
       "        text-align: right;\n",
       "    }\n",
       "</style>\n",
       "<table border=\"1\" class=\"dataframe\">\n",
       "  <thead>\n",
       "    <tr style=\"text-align: right;\">\n",
       "      <th></th>\n",
       "      <th>stem</th>\n",
       "      <th>meaning_number</th>\n",
       "      <th>attestation_texts</th>\n",
       "      <th>language_period</th>\n",
       "    </tr>\n",
       "  </thead>\n",
       "  <tbody>\n",
       "    <tr>\n",
       "      <th>0</th>\n",
       "      <td>inī</td>\n",
       "      <td>None</td>\n",
       "      <td>V.</td>\n",
       "      <td>A. Earlier Language</td>\n",
       "    </tr>\n",
       "    <tr>\n",
       "      <th>1</th>\n",
       "      <td>isṇā</td>\n",
       "      <td>None</td>\n",
       "      <td>None</td>\n",
       "      <td>A. Earlier Language</td>\n",
       "    </tr>\n",
       "    <tr>\n",
       "      <th>2</th>\n",
       "      <td>ubhnā</td>\n",
       "      <td>None</td>\n",
       "      <td>V.</td>\n",
       "      <td>A. Earlier Language</td>\n",
       "    </tr>\n",
       "    <tr>\n",
       "      <th>3</th>\n",
       "      <td>uṣṇā</td>\n",
       "      <td>None</td>\n",
       "      <td>V.</td>\n",
       "      <td>A. Earlier Language</td>\n",
       "    </tr>\n",
       "    <tr>\n",
       "      <th>4</th>\n",
       "      <td>kṣiṇā</td>\n",
       "      <td>None</td>\n",
       "      <td>V.B.</td>\n",
       "      <td>A. Earlier Language</td>\n",
       "    </tr>\n",
       "  </tbody>\n",
       "</table>\n",
       "</div>"
      ],
      "text/plain": [
       "    stem meaning_number attestation_texts      language_period\n",
       "0    inī           None                V.  A. Earlier Language\n",
       "1   isṇā           None              None  A. Earlier Language\n",
       "2  ubhnā           None                V.  A. Earlier Language\n",
       "3   uṣṇā           None                V.  A. Earlier Language\n",
       "4  kṣiṇā           None              V.B.  A. Earlier Language"
      ]
     },
     "execution_count": 26,
     "metadata": {},
     "output_type": "execute_result"
    }
   ],
   "source": [
    "df_whitney_roots = pandas.DataFrame.from_dict(roots)\n",
    "df_whitney_roots.to_csv(\"data/whitney_roots_ninth_class.csv\", index=None)\n",
    "df_whitney_roots.head()"
   ]
  },
  {
   "cell_type": "markdown",
   "id": "0b5c2bb0",
   "metadata": {},
   "source": [
    "## Annotating Verbal Roots with Rig Veda attestations"
   ]
  },
  {
   "cell_type": "code",
   "execution_count": 22,
   "id": "22c5eab6",
   "metadata": {},
   "outputs": [],
   "source": [
    "!cp data/whitney_roots_ninth_class.csv data/roots_ninth_class.csv"
   ]
  },
  {
   "cell_type": "code",
   "execution_count": 23,
   "id": "90e97473",
   "metadata": {},
   "outputs": [],
   "source": [
    "df_roots = pandas.read_csv(\"data/roots_ninth_class.csv\")"
   ]
  },
  {
   "cell_type": "code",
   "execution_count": 27,
   "id": "0b7f5621",
   "metadata": {},
   "outputs": [
    {
     "data": {
      "text/html": [
       "<div>\n",
       "<style scoped>\n",
       "    .dataframe tbody tr th:only-of-type {\n",
       "        vertical-align: middle;\n",
       "    }\n",
       "\n",
       "    .dataframe tbody tr th {\n",
       "        vertical-align: top;\n",
       "    }\n",
       "\n",
       "    .dataframe thead th {\n",
       "        text-align: right;\n",
       "    }\n",
       "</style>\n",
       "<table border=\"1\" class=\"dataframe\">\n",
       "  <thead>\n",
       "    <tr style=\"text-align: right;\">\n",
       "      <th></th>\n",
       "      <th>stem</th>\n",
       "      <th>meaning_number</th>\n",
       "      <th>attestation_texts</th>\n",
       "      <th>language_period</th>\n",
       "    </tr>\n",
       "  </thead>\n",
       "  <tbody>\n",
       "    <tr>\n",
       "      <th>0</th>\n",
       "      <td>inī</td>\n",
       "      <td>NaN</td>\n",
       "      <td>V.</td>\n",
       "      <td>A. Earlier Language</td>\n",
       "    </tr>\n",
       "    <tr>\n",
       "      <th>1</th>\n",
       "      <td>isṇā</td>\n",
       "      <td>NaN</td>\n",
       "      <td>NaN</td>\n",
       "      <td>A. Earlier Language</td>\n",
       "    </tr>\n",
       "    <tr>\n",
       "      <th>2</th>\n",
       "      <td>ubhnā</td>\n",
       "      <td>NaN</td>\n",
       "      <td>V.</td>\n",
       "      <td>A. Earlier Language</td>\n",
       "    </tr>\n",
       "    <tr>\n",
       "      <th>3</th>\n",
       "      <td>uṣṇā</td>\n",
       "      <td>NaN</td>\n",
       "      <td>V.</td>\n",
       "      <td>A. Earlier Language</td>\n",
       "    </tr>\n",
       "    <tr>\n",
       "      <th>4</th>\n",
       "      <td>kṣiṇā</td>\n",
       "      <td>NaN</td>\n",
       "      <td>V.B.</td>\n",
       "      <td>A. Earlier Language</td>\n",
       "    </tr>\n",
       "  </tbody>\n",
       "</table>\n",
       "</div>"
      ],
      "text/plain": [
       "    stem  meaning_number attestation_texts      language_period\n",
       "0    inī             NaN                V.  A. Earlier Language\n",
       "1   isṇā             NaN               NaN  A. Earlier Language\n",
       "2  ubhnā             NaN                V.  A. Earlier Language\n",
       "3   uṣṇā             NaN                V.  A. Earlier Language\n",
       "4  kṣiṇā             NaN              V.B.  A. Earlier Language"
      ]
     },
     "execution_count": 27,
     "metadata": {},
     "output_type": "execute_result"
    }
   ],
   "source": [
    "df_roots.head()"
   ]
  }
 ],
 "metadata": {
  "kernelspec": {
   "display_name": "Python 3 (ipykernel)",
   "language": "python",
   "name": "python3"
  },
  "language_info": {
   "codemirror_mode": {
    "name": "ipython",
    "version": 3
   },
   "file_extension": ".py",
   "mimetype": "text/x-python",
   "name": "python",
   "nbconvert_exporter": "python",
   "pygments_lexer": "ipython3",
   "version": "3.10.9"
  }
 },
 "nbformat": 4,
 "nbformat_minor": 5
}
