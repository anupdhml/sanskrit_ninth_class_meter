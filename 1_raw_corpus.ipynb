{
 "cells": [
  {
   "cell_type": "markdown",
   "id": "b5484efe",
   "metadata": {},
   "source": [
    "# Raw Rigveda Corpus"
   ]
  },
  {
   "cell_type": "markdown",
   "id": "0477bf80",
   "metadata": {},
   "source": [
    "## Getting Rigveda samhitapatha (VNH version)"
   ]
  },
  {
   "cell_type": "code",
   "execution_count": null,
   "id": "b2921890",
   "metadata": {},
   "outputs": [],
   "source": [
    "# https://github.com/cceh/c-salt_vedaweb_sources/tree/master/rigveda/versions\n",
    "# description of the sources here:\n",
    "# https://github.com/cceh/c-salt_vedaweb_tei/blob/master/vedaweb_corpus.tei\n",
    "# https://vedaweb.uni-koeln.de/rigveda/help\n",
    "\n",
    "!wget -O downloads/rv_samhitapatha_vnh.json https://raw.githubusercontent.com/cceh/c-salt_vedaweb_sources/master/rigveda/versions/vnh.json"
   ]
  },
  {
   "cell_type": "code",
   "execution_count": 1,
   "id": "79365999",
   "metadata": {},
   "outputs": [
    {
     "name": "stdout",
     "output_type": "stream",
     "text": [
      "Successfully wrote the sanskrit text to data/rv_samhitapatha_vnh.txt\r\n",
      "\r\n",
      "List of sanskrit chars resolved from the text:\r\n",
      "\r\n",
      "vowels_short: ['a', 'a\\\\', 'i', 'i\\\\', 'l̥', 'r̥', 'u', '~i', '~u', 'á', 'í', 'ú', 'ŕ̥']\r\n",
      "vowels_long: ['ai', 'ai\\\\', 'au', 'aí', 'aú', 'e', 'e\\\\', 'o', 'o\\\\', 'r̥̄', 'r̥̄́', 'é', 'ó', 'ā', 'ā\\\\', 'ā́', 'ī', 'ī3', 'ī́', 'ī́3', 'ū', 'ū́']\r\n",
      "consonants: ['b', 'bh', 'c', 'ch', 'd', 'dh', 'g', 'gh', 'h', 'j', 'jh', 'k', 'kh', 'l', 'm', 'm̐', 'n', 'p', 'ph', 'r', 's', 't', 'th', 'v', 'y', 'ñ', 'ś', 'ḍ', 'ḍh', 'ḥ', 'ḷ', 'ḷh', 'ṁ', 'ṅ', 'ṇ', 'ṣ', 'ṭ', 'ṭh']\r\n",
      "special_chars: [' ', ' ̀']\r\n",
      "others: [\"'bh\", \"'d\", \"'dh\", \"'g\", \"'h\", \"'j\", \"'k\", \"'m\", \"'n\", \"'p\", \"'r\", \"'s\", \"'t\", \"'v\", \"'y\", \"'ś\"]\r\n",
      "\r\n",
      "List of sanskrit chars missing:\r\n",
      "\r\n",
      "vowels_short: ['r̥\\\\', 'r̥̀', 'u\\\\', 'à', 'ì', 'ï', 'ù', 'ü']\r\n",
      "vowels_long: ['au\\\\', 'aì', 'aù', 'è', 'ò', 'ā̀', 'ī\\\\', 'ī̀', 'ū3', 'ū\\\\', 'ū̀', 'ū́3']\r\n",
      "consonants: []\r\n",
      "special_chars: [\"'\"]\r\n"
     ]
    }
   ],
   "source": [
    "# make text version from the jsons, with line numbers at the beginning\n",
    "!python src/transform_json_corpus.py downloads/rv_samhitapatha_vnh.json"
   ]
  },
  {
   "cell_type": "markdown",
   "id": "1ec2f5eb",
   "metadata": {},
   "source": [
    "Make sure that the missing chars here are okay to ignore, or that they are just written differently in the text."
   ]
  },
  {
   "cell_type": "markdown",
   "id": "dd53ec40",
   "metadata": {},
   "source": [
    "## Getting Rigveda padapatha (Lubotsky version)"
   ]
  },
  {
   "cell_type": "code",
   "execution_count": null,
   "id": "3824eea0",
   "metadata": {},
   "outputs": [],
   "source": [
    "!wget -O downloads/rv_padapatha_lubotsky.json https://raw.githubusercontent.com/cceh/c-salt_vedaweb_sources/master/rigveda/versions/lubotsky.json"
   ]
  },
  {
   "cell_type": "code",
   "execution_count": 2,
   "id": "d590814b",
   "metadata": {},
   "outputs": [
    {
     "name": "stdout",
     "output_type": "stream",
     "text": [
      "Successfully wrote the sanskrit text to data/rv_padapatha_lubotsky.txt\r\n",
      "\r\n",
      "List of sanskrit chars resolved from the text:\r\n",
      "\r\n",
      "vowels_short: ['a', 'a\\\\', 'i', 'l̥', 'r̥', 'r̥\\\\', 'u', 'u\\\\', '~i', '~u', 'á', 'í', 'ú', 'ŕ̥']\r\n",
      "vowels_long: ['ai', 'au', 'au\\\\', 'aí', 'aú', 'e', 'e\\\\', 'o', 'o\\\\', 'r̥̄', 'r̥̄́', 'é', 'ó', 'ā', 'ā\\\\', 'ā́', 'ī', 'ī\\\\', 'ī́', 'ū', 'ū\\\\', 'ū́']\r\n",
      "consonants: ['b', 'bh', 'c', 'ch', 'd', 'dh', 'g', 'gh', 'h', 'j', 'jh', 'k', 'kh', 'l', 'm', 'm̐', 'n', 'p', 'ph', 'r', 's', 't', 'th', 'v', 'y', 'ñ', 'ś', 'ḍ', 'ḍh', 'ḥ', 'ḷ', 'ḷh', 'ṁ', 'ṅ', 'ṇ', 'ṣ', 'ṭ', 'ṭh']\r\n",
      "special_chars: [' ']\r\n",
      "others: []\r\n",
      "\r\n",
      "List of sanskrit chars missing:\r\n",
      "\r\n",
      "vowels_short: ['i\\\\', 'r̥̀', 'à', 'ì', 'ï', 'ù', 'ü']\r\n",
      "vowels_long: ['ai\\\\', 'aì', 'aù', 'è', 'ò', 'ā̀', 'ī3', 'ī̀', 'ī́3', 'ū3', 'ū̀', 'ū́3']\r\n",
      "consonants: []\r\n",
      "special_chars: [' ̀', \"'\"]\r\n"
     ]
    }
   ],
   "source": [
    "# make text version from the jsons, with line numbers at the beginning\n",
    "!python src/transform_json_corpus.py downloads/rv_padapatha_lubotsky.json"
   ]
  },
  {
   "cell_type": "markdown",
   "id": "5ad05b26",
   "metadata": {},
   "source": [
    "Make sure that the missing chars here are okay to ignore, or that they are just written differently in the text."
   ]
  },
  {
   "cell_type": "markdown",
   "id": "dc18c62a",
   "metadata": {},
   "source": [
    "## Getting Rigveda padapatha (Eichler version)"
   ]
  },
  {
   "cell_type": "code",
   "execution_count": null,
   "id": "68f2f8f3",
   "metadata": {},
   "outputs": [],
   "source": [
    "# http://www.detlef108.de/Rigveda.htm \n",
    "# http://www.detlef108.de/Notes-to-the-Rigveda-Page.htm \n",
    "!wget -O downloads/rv_padapatha_eichler.html http://www.detlef108.de/RV-Padapatha-TA3-paada-NA-UTF8.html "
   ]
  },
  {
   "cell_type": "code",
   "execution_count": 3,
   "id": "3d5d638f",
   "metadata": {},
   "outputs": [],
   "source": [
    "# sudo apt install html2text\n",
    "#!html2text -utf8 -width 3000 -o rv_padapatha.txt rv_padaptaha.html\n",
    "\n",
    "from bs4 import BeautifulSoup\n",
    "\n",
    "with open(\"downloads/rv_padapatha_eichler.html\", \"r\") as input_file:\n",
    "    soup = BeautifulSoup(input_file)\n",
    "    \n",
    "    hymns = []\n",
    "    \n",
    "    for para in soup.find_all(\"p\"):\n",
    "        # ignore the ending notes\n",
    "        if para.contents[0].name == \"span\":\n",
    "            continue\n",
    "        \n",
    "        #hymns.append(para.text.rstrip()) # no extra lines between hymns\n",
    "        hymns.append(para.text)\n",
    "    \n",
    "    with open(\"data/rv_padapatha_eichler.txt\", 'w') as f:\n",
    "        f.write(\"\".join(hymns))"
   ]
  },
  {
   "cell_type": "code",
   "execution_count": null,
   "id": "3fe51439",
   "metadata": {},
   "outputs": [],
   "source": [
    "# TODO break the padapatha verse into sub-lines"
   ]
  },
  {
   "cell_type": "markdown",
   "id": "e4759d5d",
   "metadata": {},
   "source": [
    "## Getting Strata Info"
   ]
  },
  {
   "cell_type": "markdown",
   "id": "a7e9aad5",
   "metadata": {},
   "source": [
    "RV strata assignment for each pāda (verse line) of each stanza:"
   ]
  },
  {
   "cell_type": "code",
   "execution_count": null,
   "id": "b92e4f0f",
   "metadata": {},
   "outputs": [],
   "source": [
    "!wget -O downloads/rv_strata_vedaweb.json https://raw.githubusercontent.com/VedaWebProject/vedaweb-data/main/rigveda/info/strata.json"
   ]
  },
  {
   "cell_type": "code",
   "execution_count": 4,
   "id": "f1987153",
   "metadata": {},
   "outputs": [
    {
     "data": {
      "text/plain": [
       "{'line_no': '01.001.01.a', 'labels': 'MO', 'strata': 'N'}"
      ]
     },
     "execution_count": 4,
     "metadata": {},
     "output_type": "execute_result"
    }
   ],
   "source": [
    "import json\n",
    "\n",
    "rv_strata_vedaweb = []\n",
    "\n",
    "with open(f\"downloads/rv_strata_vedaweb.json\") as f:\n",
    "    strata_raw = json.load(f)\n",
    "    \n",
    "    for stanza_no, verse_lines  in strata_raw.items():\n",
    "        for line_data in verse_lines:\n",
    "            rv_strata_vedaweb.append({\n",
    "                \"line_no\": f\"{stanza_no}.{line_data[0]}\",\n",
    "                \"labels\": line_data[1], # extra info\n",
    "                \"strata\": line_data[2],\n",
    "            })\n",
    "\n",
    "rv_strata_vedaweb[0] # sample"
   ]
  },
  {
   "cell_type": "code",
   "execution_count": 5,
   "id": "928a7df5",
   "metadata": {},
   "outputs": [
    {
     "data": {
      "text/html": [
       "<div>\n",
       "<style scoped>\n",
       "    .dataframe tbody tr th:only-of-type {\n",
       "        vertical-align: middle;\n",
       "    }\n",
       "\n",
       "    .dataframe tbody tr th {\n",
       "        vertical-align: top;\n",
       "    }\n",
       "\n",
       "    .dataframe thead th {\n",
       "        text-align: right;\n",
       "    }\n",
       "</style>\n",
       "<table border=\"1\" class=\"dataframe\">\n",
       "  <thead>\n",
       "    <tr style=\"text-align: right;\">\n",
       "      <th></th>\n",
       "      <th>line_no</th>\n",
       "      <th>labels</th>\n",
       "      <th>strata</th>\n",
       "    </tr>\n",
       "  </thead>\n",
       "  <tbody>\n",
       "    <tr>\n",
       "      <th>0</th>\n",
       "      <td>01.001.01.a</td>\n",
       "      <td>MO</td>\n",
       "      <td>N</td>\n",
       "    </tr>\n",
       "    <tr>\n",
       "      <th>1</th>\n",
       "      <td>01.001.01.b</td>\n",
       "      <td>MO</td>\n",
       "      <td>N</td>\n",
       "    </tr>\n",
       "    <tr>\n",
       "      <th>2</th>\n",
       "      <td>01.001.01.c</td>\n",
       "      <td>MO</td>\n",
       "      <td>N</td>\n",
       "    </tr>\n",
       "    <tr>\n",
       "      <th>3</th>\n",
       "      <td>01.001.02.a</td>\n",
       "      <td>MO</td>\n",
       "      <td>N</td>\n",
       "    </tr>\n",
       "    <tr>\n",
       "      <th>4</th>\n",
       "      <td>01.001.02.b</td>\n",
       "      <td>MO</td>\n",
       "      <td>N</td>\n",
       "    </tr>\n",
       "  </tbody>\n",
       "</table>\n",
       "</div>"
      ],
      "text/plain": [
       "       line_no labels strata\n",
       "0  01.001.01.a     MO      N\n",
       "1  01.001.01.b     MO      N\n",
       "2  01.001.01.c     MO      N\n",
       "3  01.001.02.a     MO      N\n",
       "4  01.001.02.b     MO      N"
      ]
     },
     "execution_count": 5,
     "metadata": {},
     "output_type": "execute_result"
    }
   ],
   "source": [
    "import pandas\n",
    "\n",
    "df_rv_strata_vedaweb = pandas.DataFrame.from_dict(rv_strata_vedaweb)\n",
    "df_rv_strata_vedaweb.to_csv(\"data/rv_strata_vedaweb.csv\", index=None)\n",
    "\n",
    "df_rv_strata_vedaweb.head()"
   ]
  }
 ],
 "metadata": {
  "kernelspec": {
   "display_name": "Python 3 (ipykernel)",
   "language": "python",
   "name": "python3"
  },
  "language_info": {
   "codemirror_mode": {
    "name": "ipython",
    "version": 3
   },
   "file_extension": ".py",
   "mimetype": "text/x-python",
   "name": "python",
   "nbconvert_exporter": "python",
   "pygments_lexer": "ipython3",
   "version": "3.10.9"
  }
 },
 "nbformat": 4,
 "nbformat_minor": 5
}
