{
 "cells": [
  {
   "cell_type": "markdown",
   "id": "5f86ef5e",
   "metadata": {},
   "source": [
    "# Roots and Stems for Ninth Class (and Fifth Class)"
   ]
  },
  {
   "cell_type": "markdown",
   "id": "eed15db9",
   "metadata": {},
   "source": [
    "## Getting Verbal Roots "
   ]
  },
  {
   "cell_type": "markdown",
   "id": "99aa3a19",
   "metadata": {},
   "source": [
    "We rely on the [list of stems](https://www.sanskrit-lexicon.uni-koeln.de/scans/csl-whitroot/disp/index.php?page=214) given in the index of Whitney's Sanskrit Roots and Verb-forms."
   ]
  },
  {
   "cell_type": "code",
   "execution_count": 1,
   "id": "d5f8269a",
   "metadata": {},
   "outputs": [],
   "source": [
    "!mkdir -p downloads\n",
    "!mkdir -p data"
   ]
  },
  {
   "cell_type": "code",
   "execution_count": null,
   "id": "922babf4",
   "metadata": {},
   "outputs": [],
   "source": [
    "!wget -O downloads/whitney_roots.pdf http://gretil.sub.uni-goettingen.de/gretil_elib/Whi885__Whitney_Roots-ACCENTED.pdf"
   ]
  },
  {
   "cell_type": "code",
   "execution_count": 2,
   "id": "b6ee83f3",
   "metadata": {},
   "outputs": [],
   "source": [
    "# install pdftk if not already there. eg: for ubuntu: sudo apt install pdftk\n",
    "!pdftk downloads/whitney_roots.pdf cat 229 output data/whitney_roots_ninth_class.pdf\n",
    "\n",
    "# for our control data\n",
    "!pdftk downloads/whitney_roots.pdf cat 228 output data/whitney_roots_fifth_class.pdf"
   ]
  },
  {
   "cell_type": "code",
   "execution_count": 30,
   "id": "e4cfa6e2",
   "metadata": {},
   "outputs": [],
   "source": [
    "# produces data/whitney_roots_ninth_class.txt\n",
    "!pdftotext data/whitney_roots_ninth_class.pdf\n",
    "\n",
    "# produces data/whitney_roots_fifth_class.txt\n",
    "!pdftotext data/whitney_roots_fifth_class.pdf"
   ]
  },
  {
   "cell_type": "markdown",
   "id": "a2a46f06",
   "metadata": {},
   "source": [
    "The text version is cleaned up manually, fixing formatting and diacritics.\n",
    "\n",
    "One extra thing we also do is rewrite a form like _mī̆nā_ as _minā/mīnā_, i.e. re-write the variation in the root vowel as two different stem forms explicitly. This helps us visualize and process the variants easily later (note: whitney has only 3 stems here marked like this -- namely _mī̆nā_, _vlī̆nā_ and _dhū̆nī_ -- so we can get away with doing this manually here easily. If there were a lot of these, we could have automated it)\n",
    "\n",
    "Final results are in [data/whitney_roots_ninth_class_cleaned.txt](data/whitney_roots_ninth_class_cleaned.txt) and [data/whitney_roots_fifth_class_cleaned.txt](data/whitney_roots_fifth_class_cleaned.txt)."
   ]
  },
  {
   "cell_type": "markdown",
   "id": "64d50821",
   "metadata": {},
   "source": [
    "## Parsing Verbal Roots Info"
   ]
  },
  {
   "cell_type": "code",
   "execution_count": 3,
   "id": "4c836cc3",
   "metadata": {},
   "outputs": [],
   "source": [
    "# in the same folder as this notebook\n",
    "import src.lib.roots as roots\n",
    "\n",
    "# useful during testing to pick up changes in the file\n",
    "import importlib\n",
    "importlib.reload(roots)\n",
    "\n",
    "whitney_roots = roots.parse_whitney_roots([\n",
    "    \"data/whitney_roots_ninth_class_cleaned.txt\",\n",
    "    \"data/whitney_roots_fifth_class_cleaned.txt\",\n",
    "])"
   ]
  },
  {
   "cell_type": "markdown",
   "id": "cf316d88",
   "metadata": {},
   "source": [
    "## Saving the Results"
   ]
  },
  {
   "cell_type": "code",
   "execution_count": 4,
   "id": "0093fa3c",
   "metadata": {},
   "outputs": [],
   "source": [
    "import pandas"
   ]
  },
  {
   "cell_type": "code",
   "execution_count": null,
   "id": "eb1cc4a8",
   "metadata": {},
   "outputs": [],
   "source": [
    "df_whitney_roots = pandas.DataFrame.from_dict(whitney_roots)\n",
    "df_whitney_roots.to_csv(\"data/roots.csv\", index=None)"
   ]
  },
  {
   "cell_type": "markdown",
   "id": "8af2c4d9",
   "metadata": {},
   "source": [
    "## Summary of Results"
   ]
  },
  {
   "cell_type": "code",
   "execution_count": 12,
   "id": "e9e95af6",
   "metadata": {},
   "outputs": [
    {
     "data": {
      "text/html": [
       "<div>\n",
       "<style scoped>\n",
       "    .dataframe tbody tr th:only-of-type {\n",
       "        vertical-align: middle;\n",
       "    }\n",
       "\n",
       "    .dataframe tbody tr th {\n",
       "        vertical-align: top;\n",
       "    }\n",
       "\n",
       "    .dataframe thead th {\n",
       "        text-align: right;\n",
       "    }\n",
       "</style>\n",
       "<table border=\"1\" class=\"dataframe\">\n",
       "  <thead>\n",
       "    <tr style=\"text-align: right;\">\n",
       "      <th></th>\n",
       "      <th>root_guess</th>\n",
       "      <th>variant_no</th>\n",
       "      <th>strong_stem</th>\n",
       "      <th>weak_stem</th>\n",
       "      <th>weak_only</th>\n",
       "      <th>attestation_texts</th>\n",
       "      <th>language_period</th>\n",
       "      <th>present_class</th>\n",
       "    </tr>\n",
       "  </thead>\n",
       "  <tbody>\n",
       "    <tr>\n",
       "      <th>0</th>\n",
       "      <td>i 2</td>\n",
       "      <td></td>\n",
       "      <td>inā</td>\n",
       "      <td>inī</td>\n",
       "      <td>True</td>\n",
       "      <td>V.</td>\n",
       "      <td>Earlier</td>\n",
       "      <td>ninth</td>\n",
       "    </tr>\n",
       "    <tr>\n",
       "      <th>1</th>\n",
       "      <td>iṣ</td>\n",
       "      <td></td>\n",
       "      <td>iṣṇā</td>\n",
       "      <td>iṣṇī</td>\n",
       "      <td>False</td>\n",
       "      <td></td>\n",
       "      <td>Earlier</td>\n",
       "      <td>ninth</td>\n",
       "    </tr>\n",
       "    <tr>\n",
       "      <th>2</th>\n",
       "      <td>ubh</td>\n",
       "      <td></td>\n",
       "      <td>ubhnā</td>\n",
       "      <td>ubhnī</td>\n",
       "      <td>False</td>\n",
       "      <td>V.</td>\n",
       "      <td>Earlier</td>\n",
       "      <td>ninth</td>\n",
       "    </tr>\n",
       "    <tr>\n",
       "      <th>3</th>\n",
       "      <td>uṣ</td>\n",
       "      <td></td>\n",
       "      <td>uṣṇā</td>\n",
       "      <td>uṣṇī</td>\n",
       "      <td>False</td>\n",
       "      <td>V.</td>\n",
       "      <td>Earlier</td>\n",
       "      <td>ninth</td>\n",
       "    </tr>\n",
       "    <tr>\n",
       "      <th>4</th>\n",
       "      <td>kṣi</td>\n",
       "      <td></td>\n",
       "      <td>kṣiṇā</td>\n",
       "      <td>kṣiṇī</td>\n",
       "      <td>False</td>\n",
       "      <td>V.B.</td>\n",
       "      <td>Earlier</td>\n",
       "      <td>ninth</td>\n",
       "    </tr>\n",
       "    <tr>\n",
       "      <th>...</th>\n",
       "      <td>...</td>\n",
       "      <td>...</td>\n",
       "      <td>...</td>\n",
       "      <td>...</td>\n",
       "      <td>...</td>\n",
       "      <td>...</td>\n",
       "      <td>...</td>\n",
       "      <td>...</td>\n",
       "    </tr>\n",
       "    <tr>\n",
       "      <th>97</th>\n",
       "      <td>hi</td>\n",
       "      <td></td>\n",
       "      <td>hino</td>\n",
       "      <td>hinu</td>\n",
       "      <td>False</td>\n",
       "      <td></td>\n",
       "      <td>Earlier &amp; Later</td>\n",
       "      <td>fifth</td>\n",
       "    </tr>\n",
       "    <tr>\n",
       "      <th>98</th>\n",
       "      <td>ci</td>\n",
       "      <td>2</td>\n",
       "      <td>cino</td>\n",
       "      <td>cinu</td>\n",
       "      <td>False</td>\n",
       "      <td></td>\n",
       "      <td>Later</td>\n",
       "      <td>fifth</td>\n",
       "    </tr>\n",
       "    <tr>\n",
       "      <th>99</th>\n",
       "      <td>jagh</td>\n",
       "      <td></td>\n",
       "      <td>jaghno</td>\n",
       "      <td>jaghnu</td>\n",
       "      <td>False</td>\n",
       "      <td>C.</td>\n",
       "      <td>Later</td>\n",
       "      <td>fifth</td>\n",
       "    </tr>\n",
       "    <tr>\n",
       "      <th>100</th>\n",
       "      <td>ti</td>\n",
       "      <td></td>\n",
       "      <td>tino</td>\n",
       "      <td>tinu</td>\n",
       "      <td>False</td>\n",
       "      <td>C.</td>\n",
       "      <td>Later</td>\n",
       "      <td>fifth</td>\n",
       "    </tr>\n",
       "    <tr>\n",
       "      <th>101</th>\n",
       "      <td>pr̥</td>\n",
       "      <td>2</td>\n",
       "      <td>pr̥ṇo</td>\n",
       "      <td>pr̥ṇu</td>\n",
       "      <td>False</td>\n",
       "      <td>C.</td>\n",
       "      <td>Later</td>\n",
       "      <td>fifth</td>\n",
       "    </tr>\n",
       "  </tbody>\n",
       "</table>\n",
       "<p>102 rows × 8 columns</p>\n",
       "</div>"
      ],
      "text/plain": [
       "    root_guess variant_no strong_stem weak_stem  weak_only attestation_texts  \\\n",
       "0          i 2                    inā       inī       True                V.   \n",
       "1           iṣ                   iṣṇā      iṣṇī      False                     \n",
       "2          ubh                  ubhnā     ubhnī      False                V.   \n",
       "3           uṣ                   uṣṇā      uṣṇī      False                V.   \n",
       "4          kṣi                  kṣiṇā     kṣiṇī      False              V.B.   \n",
       "..         ...        ...         ...       ...        ...               ...   \n",
       "97          hi                   hino      hinu      False                     \n",
       "98          ci          2        cino      cinu      False                     \n",
       "99        jagh                 jaghno    jaghnu      False                C.   \n",
       "100         ti                   tino      tinu      False                C.   \n",
       "101        pr̥          2       pr̥ṇo     pr̥ṇu      False                C.   \n",
       "\n",
       "     language_period present_class  \n",
       "0            Earlier         ninth  \n",
       "1            Earlier         ninth  \n",
       "2            Earlier         ninth  \n",
       "3            Earlier         ninth  \n",
       "4            Earlier         ninth  \n",
       "..               ...           ...  \n",
       "97   Earlier & Later         fifth  \n",
       "98             Later         fifth  \n",
       "99             Later         fifth  \n",
       "100            Later         fifth  \n",
       "101            Later         fifth  \n",
       "\n",
       "[102 rows x 8 columns]"
      ]
     },
     "execution_count": 12,
     "metadata": {},
     "output_type": "execute_result"
    }
   ],
   "source": [
    "import pandas\n",
    "res_df_roots = pandas.read_csv(\"data/roots.csv\", keep_default_na=False)\n",
    "res_df_roots"
   ]
  },
  {
   "cell_type": "code",
   "execution_count": 13,
   "id": "0fef805c",
   "metadata": {},
   "outputs": [
    {
     "data": {
      "text/html": [
       "<div>\n",
       "<style scoped>\n",
       "    .dataframe tbody tr th:only-of-type {\n",
       "        vertical-align: middle;\n",
       "    }\n",
       "\n",
       "    .dataframe tbody tr th {\n",
       "        vertical-align: top;\n",
       "    }\n",
       "\n",
       "    .dataframe thead th {\n",
       "        text-align: right;\n",
       "    }\n",
       "</style>\n",
       "<table border=\"1\" class=\"dataframe\">\n",
       "  <thead>\n",
       "    <tr style=\"text-align: right;\">\n",
       "      <th></th>\n",
       "      <th>present_class</th>\n",
       "      <th>language_period</th>\n",
       "      <th>count</th>\n",
       "    </tr>\n",
       "  </thead>\n",
       "  <tbody>\n",
       "    <tr>\n",
       "      <th>0</th>\n",
       "      <td>fifth</td>\n",
       "      <td>Earlier</td>\n",
       "      <td>24</td>\n",
       "    </tr>\n",
       "    <tr>\n",
       "      <th>1</th>\n",
       "      <td>fifth</td>\n",
       "      <td>Earlier &amp; Later</td>\n",
       "      <td>21</td>\n",
       "    </tr>\n",
       "    <tr>\n",
       "      <th>2</th>\n",
       "      <td>fifth</td>\n",
       "      <td>Later</td>\n",
       "      <td>4</td>\n",
       "    </tr>\n",
       "    <tr>\n",
       "      <th>3</th>\n",
       "      <td>ninth</td>\n",
       "      <td>Earlier</td>\n",
       "      <td>31</td>\n",
       "    </tr>\n",
       "    <tr>\n",
       "      <th>4</th>\n",
       "      <td>ninth</td>\n",
       "      <td>Earlier &amp; Later</td>\n",
       "      <td>17</td>\n",
       "    </tr>\n",
       "    <tr>\n",
       "      <th>5</th>\n",
       "      <td>ninth</td>\n",
       "      <td>Later</td>\n",
       "      <td>5</td>\n",
       "    </tr>\n",
       "  </tbody>\n",
       "</table>\n",
       "</div>"
      ],
      "text/plain": [
       "  present_class  language_period  count\n",
       "0         fifth          Earlier     24\n",
       "1         fifth  Earlier & Later     21\n",
       "2         fifth            Later      4\n",
       "3         ninth          Earlier     31\n",
       "4         ninth  Earlier & Later     17\n",
       "5         ninth            Later      5"
      ]
     },
     "execution_count": 13,
     "metadata": {},
     "output_type": "execute_result"
    }
   ],
   "source": [
    "res_df_roots.groupby([\"present_class\", \"language_period\"]).size().to_frame(\"count\").reset_index()"
   ]
  },
  {
   "cell_type": "markdown",
   "id": "e91cb0b3",
   "metadata": {},
   "source": [
    "For Rigveda, we don't expect to find the roots marked as \"Later\" in the language period."
   ]
  }
 ],
 "metadata": {
  "kernelspec": {
   "display_name": "Python 3 (ipykernel)",
   "language": "python",
   "name": "python3"
  },
  "language_info": {
   "codemirror_mode": {
    "name": "ipython",
    "version": 3
   },
   "file_extension": ".py",
   "mimetype": "text/x-python",
   "name": "python",
   "nbconvert_exporter": "python",
   "pygments_lexer": "ipython3",
   "version": "3.10.9"
  }
 },
 "nbformat": 4,
 "nbformat_minor": 5
}
